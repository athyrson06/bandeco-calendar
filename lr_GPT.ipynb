{
 "cells": [
  {
   "cell_type": "code",
   "execution_count": 1,
   "metadata": {},
   "outputs": [],
   "source": [
    "%load_ext autoreload\n",
    "%autoreload 2"
   ]
  },
  {
   "cell_type": "code",
   "execution_count": 2,
   "metadata": {},
   "outputs": [],
   "source": [
    "# Define the required scope\n",
    "SCOPES = [\"https://www.googleapis.com/auth/calendar\"]\n",
    "file = open('IDs.txt', 'r')\n",
    "lines = file.readlines()\n",
    "IDCAL = lines[0].strip()\n",
    "IDCALVEG = lines[1].strip()"
   ]
  },
  {
   "cell_type": "code",
   "execution_count": 3,
   "metadata": {},
   "outputs": [],
   "source": [
    "import bandecoApi.cardapio as cardapio\n",
    "import bandecoApi.calendar_funcs as cf"
   ]
  },
  {
   "cell_type": "code",
   "execution_count": 4,
   "metadata": {},
   "outputs": [],
   "source": [
    "api = cardapio.CardapioAPI()"
   ]
  },
  {
   "cell_type": "code",
   "execution_count": 5,
   "metadata": {},
   "outputs": [
    {
     "data": {
      "text/plain": [
       "{'Data': '2024-04-01',\n",
       " 'Refeição': 'Jantar Vegano',\n",
       " 'Prato Principal': 'Feijão branco com mandioquinha ',\n",
       " 'Acompanhamento': 'Chuchu refogado',\n",
       " 'Salada': 'Salada de beterraba ralada',\n",
       " 'Sobremesa': 'Banana',\n",
       " 'Suco': 'Refresco de pêssego'}"
      ]
     },
     "execution_count": 5,
     "metadata": {},
     "output_type": "execute_result"
    }
   ],
   "source": [
    "meal_dict = api.get_meal('2024-04-01', meal='Jantar', veg = True)\n",
    "meal_dict"
   ]
  },
  {
   "cell_type": "code",
   "execution_count": 10,
   "metadata": {},
   "outputs": [
    {
     "data": {
      "text/plain": [
       "{'summary': 'Jantar Vegano',\n",
       " 'location': 'R. Saturnino de Brito - Cidade Universitária, Campinas - SP, 13083-889',\n",
       " 'description': 'Feijão branco com mandioquinha \\nChuchu refogado\\nSalada de beterraba ralada\\nBanana\\nRefresco de pêssego',\n",
       " 'start': {'dateTime': '2024-04-01T17:30:00-03:00',\n",
       "  'timeZone': 'America/Sao_Paulo'},\n",
       " 'end': {'dateTime': '2024-04-01T19:00:00-03:00',\n",
       "  'timeZone': 'America/Sao_Paulo'},\n",
       " 'reminders': {'useDefault': False,\n",
       "  'overrides': [{'method': 'popup', 'minutes': 10}]}}"
      ]
     },
     "execution_count": 10,
     "metadata": {},
     "output_type": "execute_result"
    }
   ],
   "source": [
    "api.create_meal_event('2024-04-01', meal='Jantar', veg = True)"
   ]
  },
  {
   "cell_type": "code",
   "execution_count": null,
   "metadata": {},
   "outputs": [],
   "source": []
  }
 ],
 "metadata": {
  "kernelspec": {
   "display_name": "herejax",
   "language": "python",
   "name": "python3"
  },
  "language_info": {
   "codemirror_mode": {
    "name": "ipython",
    "version": 3
   },
   "file_extension": ".py",
   "mimetype": "text/x-python",
   "name": "python",
   "nbconvert_exporter": "python",
   "pygments_lexer": "ipython3",
   "version": "3.10.12"
  }
 },
 "nbformat": 4,
 "nbformat_minor": 2
}
